{
 "cells": [
  {
   "cell_type": "code",
   "execution_count": 5,
   "metadata": {
    "collapsed": true
   },
   "outputs": [],
   "source": [
    "# demo script for running CIDEr\n",
    "from pydataformat.loadData import LoadData\n",
    "import pdb\n",
    "import json\n",
    "from pyciderevalcap.eval import CIDErEvalCap as ciderEval\n",
    "\n",
    "pathToData = 'data/'\n",
    "\n",
    "refName = 'pascal50S.json'\n",
    "candName = 'pascal_candsB.json'\n",
    "\n",
    "result_file = 'results.json'\n",
    "df_mode = 'coco-val-df'\n",
    "# df_mode = 'corpus'"
   ]
  },
  {
   "cell_type": "code",
   "execution_count": 18,
   "metadata": {},
   "outputs": [
    {
     "name": "stdout",
     "output_type": "stream",
     "text": [
      "5\n",
      "5\n"
     ]
    }
   ],
   "source": [
    "# load reference and candidate sentences\n",
    "loadDat = LoadData(pathToData)\n",
    "gts, res = loadDat.readJson(refName, candName)\n",
    "\n",
    "res = res[:5]\n",
    "gts = {img['image_id']: gts[img['image_id']] for img in res}\n",
    "print len(res)\n",
    "print len(gts)"
   ]
  },
  {
   "cell_type": "code",
   "execution_count": 19,
   "metadata": {
    "scrolled": false
   },
   "outputs": [
    {
     "name": "stdout",
     "output_type": "stream",
     "text": [
      "[{'image_id': u'2008_003849.jpg', 'caption': ['photo of a television screen showing a movie']}, {'image_id': u'2008_005747.jpg', 'caption': ['close up of the headlights on a blue car']}, {'image_id': u'2008_008231.jpg', 'caption': ['a pug sitting while wearing an aviator jacket']}, {'image_id': u'2008_004969.jpg', 'caption': ['an exhibit of a custom car that is brightly painted with shades of yellow blue orange and blue paint']}, {'image_id': u'2008_001501.jpg', 'caption': ['a group of children jump on the beach']}]\n"
     ]
    }
   ],
   "source": [
    "from pyciderevalcap.tokenizer.ptbtokenizer import PTBTokenizer\n",
    "from pyciderevalcap.cider.cider import Cider\n",
    "from pyciderevalcap.ciderD.ciderD import CiderD\n",
    "\n",
    "tokenizer = PTBTokenizer('gts')\n",
    "gts = tokenizer.tokenize(gts)\n",
    "tokenizer = PTBTokenizer('res')\n",
    "res = tokenizer.tokenize(res)\n",
    "\n",
    "# print(gts)\n",
    "print(res)\n",
    "\n",
    "scorer = CiderD(df=df_mode)"
   ]
  },
  {
   "cell_type": "code",
   "execution_count": 10,
   "metadata": {},
   "outputs": [
    {
     "name": "stdout",
     "output_type": "stream",
     "text": [
      "HERE\n",
      "0.448542862876\n"
     ]
    }
   ],
   "source": [
    "scoreD, scoresD = scorer.compute_score(gts, res)\n",
    "print scoreD"
   ]
  },
  {
   "cell_type": "code",
   "execution_count": null,
   "metadata": {
    "collapsed": true
   },
   "outputs": [],
   "source": []
  }
 ],
 "metadata": {
  "anaconda-cloud": {},
  "kernelspec": {
   "display_name": "Python 2",
   "language": "python",
   "name": "python2"
  },
  "language_info": {
   "codemirror_mode": {
    "name": "ipython",
    "version": 2
   },
   "file_extension": ".py",
   "mimetype": "text/x-python",
   "name": "python",
   "nbconvert_exporter": "python",
   "pygments_lexer": "ipython2",
   "version": "2.7.12"
  }
 },
 "nbformat": 4,
 "nbformat_minor": 1
}
